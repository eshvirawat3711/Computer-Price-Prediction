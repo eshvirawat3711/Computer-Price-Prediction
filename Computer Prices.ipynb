{
 "cells": [
  {
   "cell_type": "code",
   "execution_count": 36,
   "id": "bea92b6f",
   "metadata": {},
   "outputs": [],
   "source": [
    "# Supressing the warning messages\n",
    "import warnings\n",
    "warnings.filterwarnings('ignore')"
   ]
  },
  {
   "cell_type": "markdown",
   "id": "4a906039",
   "metadata": {},
   "source": [
    "# Reading the Data \n",
    "**Importing python libraries**"
   ]
  },
  {
   "cell_type": "code",
   "execution_count": 37,
   "id": "be68d113",
   "metadata": {},
   "outputs": [],
   "source": [
    "import numpy as np\n",
    "import pandas as pd\n",
    "import matplotlib.pyplot as plt\n",
    "%matplotlib inline\n",
    "import seaborn as sns"
   ]
  },
  {
   "cell_type": "markdown",
   "id": "1fc5b2f4",
   "metadata": {},
   "source": [
    "**Reading the dataset**"
   ]
  },
  {
   "cell_type": "code",
   "execution_count": 38,
   "id": "736ce516",
   "metadata": {},
   "outputs": [
    {
     "name": "stdout",
     "output_type": "stream",
     "text": [
      "Shape before deleting duplicate values: (6259, 10)\n"
     ]
    }
   ],
   "source": [
    "ComputerPrice=pd.read_csv(\"R:\\DS\\Ivy\\Python\\Python Datasets\\Regression Datasets\\ComputerPricesData.csv\")\n",
    "print('Shape before deleting duplicate values:', ComputerPrice.shape)"
   ]
  },
  {
   "cell_type": "markdown",
   "id": "f9967a0b",
   "metadata": {},
   "source": [
    "**Removing duplicate values**"
   ]
  },
  {
   "cell_type": "code",
   "execution_count": 39,
   "id": "7dba0086",
   "metadata": {},
   "outputs": [
    {
     "name": "stdout",
     "output_type": "stream",
     "text": [
      "Shape before deleting duplicate values: (6183, 10)\n"
     ]
    }
   ],
   "source": [
    "ComputerPrice=ComputerPrice.drop_duplicates()\n",
    "print('Shape before deleting duplicate values:', ComputerPrice.shape)"
   ]
  },
  {
   "cell_type": "markdown",
   "id": "49e9e62a",
   "metadata": {},
   "source": [
    "# Basic Data Exploration"
   ]
  },
  {
   "cell_type": "code",
   "execution_count": 40,
   "id": "780a7d89",
   "metadata": {},
   "outputs": [
    {
     "name": "stdout",
     "output_type": "stream",
     "text": [
      "<class 'pandas.core.frame.DataFrame'>\n",
      "Int64Index: 6183 entries, 0 to 6258\n",
      "Data columns (total 10 columns):\n",
      " #   Column   Non-Null Count  Dtype \n",
      "---  ------   --------------  ----- \n",
      " 0   price    6183 non-null   int64 \n",
      " 1   speed    6183 non-null   int64 \n",
      " 2   hd       6183 non-null   int64 \n",
      " 3   ram      6183 non-null   int64 \n",
      " 4   screen   6183 non-null   int64 \n",
      " 5   cd       6183 non-null   object\n",
      " 6   multi    6183 non-null   object\n",
      " 7   premium  6183 non-null   object\n",
      " 8   ads      6183 non-null   int64 \n",
      " 9   trend    6183 non-null   int64 \n",
      "dtypes: int64(7), object(3)\n",
      "memory usage: 531.4+ KB\n"
     ]
    }
   ],
   "source": [
    "ComputerPrice.info()"
   ]
  },
  {
   "cell_type": "code",
   "execution_count": 41,
   "id": "f9b4b06e",
   "metadata": {},
   "outputs": [
    {
     "data": {
      "text/html": [
       "<div>\n",
       "<style scoped>\n",
       "    .dataframe tbody tr th:only-of-type {\n",
       "        vertical-align: middle;\n",
       "    }\n",
       "\n",
       "    .dataframe tbody tr th {\n",
       "        vertical-align: top;\n",
       "    }\n",
       "\n",
       "    .dataframe thead th {\n",
       "        text-align: right;\n",
       "    }\n",
       "</style>\n",
       "<table border=\"1\" class=\"dataframe\">\n",
       "  <thead>\n",
       "    <tr style=\"text-align: right;\">\n",
       "      <th></th>\n",
       "      <th>price</th>\n",
       "      <th>speed</th>\n",
       "      <th>hd</th>\n",
       "      <th>ram</th>\n",
       "      <th>screen</th>\n",
       "      <th>cd</th>\n",
       "      <th>multi</th>\n",
       "      <th>premium</th>\n",
       "      <th>ads</th>\n",
       "      <th>trend</th>\n",
       "    </tr>\n",
       "  </thead>\n",
       "  <tbody>\n",
       "    <tr>\n",
       "      <th>0</th>\n",
       "      <td>1499</td>\n",
       "      <td>25</td>\n",
       "      <td>80</td>\n",
       "      <td>4</td>\n",
       "      <td>14</td>\n",
       "      <td>no</td>\n",
       "      <td>no</td>\n",
       "      <td>yes</td>\n",
       "      <td>94</td>\n",
       "      <td>1</td>\n",
       "    </tr>\n",
       "    <tr>\n",
       "      <th>1</th>\n",
       "      <td>1795</td>\n",
       "      <td>33</td>\n",
       "      <td>85</td>\n",
       "      <td>2</td>\n",
       "      <td>14</td>\n",
       "      <td>no</td>\n",
       "      <td>no</td>\n",
       "      <td>yes</td>\n",
       "      <td>94</td>\n",
       "      <td>1</td>\n",
       "    </tr>\n",
       "    <tr>\n",
       "      <th>2</th>\n",
       "      <td>1595</td>\n",
       "      <td>25</td>\n",
       "      <td>170</td>\n",
       "      <td>4</td>\n",
       "      <td>15</td>\n",
       "      <td>no</td>\n",
       "      <td>no</td>\n",
       "      <td>yes</td>\n",
       "      <td>94</td>\n",
       "      <td>1</td>\n",
       "    </tr>\n",
       "    <tr>\n",
       "      <th>3</th>\n",
       "      <td>1849</td>\n",
       "      <td>25</td>\n",
       "      <td>170</td>\n",
       "      <td>8</td>\n",
       "      <td>14</td>\n",
       "      <td>no</td>\n",
       "      <td>no</td>\n",
       "      <td>no</td>\n",
       "      <td>94</td>\n",
       "      <td>1</td>\n",
       "    </tr>\n",
       "    <tr>\n",
       "      <th>4</th>\n",
       "      <td>3295</td>\n",
       "      <td>33</td>\n",
       "      <td>340</td>\n",
       "      <td>16</td>\n",
       "      <td>14</td>\n",
       "      <td>no</td>\n",
       "      <td>no</td>\n",
       "      <td>yes</td>\n",
       "      <td>94</td>\n",
       "      <td>1</td>\n",
       "    </tr>\n",
       "  </tbody>\n",
       "</table>\n",
       "</div>"
      ],
      "text/plain": [
       "   price  speed   hd  ram  screen  cd multi premium  ads  trend\n",
       "0   1499     25   80    4      14  no    no     yes   94      1\n",
       "1   1795     33   85    2      14  no    no     yes   94      1\n",
       "2   1595     25  170    4      15  no    no     yes   94      1\n",
       "3   1849     25  170    8      14  no    no      no   94      1\n",
       "4   3295     33  340   16      14  no    no     yes   94      1"
      ]
     },
     "execution_count": 41,
     "metadata": {},
     "output_type": "execute_result"
    }
   ],
   "source": [
    "ComputerPrice.head()"
   ]
  },
  {
   "cell_type": "code",
   "execution_count": 42,
   "id": "c6e76e45",
   "metadata": {},
   "outputs": [
    {
     "data": {
      "text/plain": [
       "price      0\n",
       "speed      0\n",
       "hd         0\n",
       "ram        0\n",
       "screen     0\n",
       "cd         0\n",
       "multi      0\n",
       "premium    0\n",
       "ads        0\n",
       "trend      0\n",
       "dtype: int64"
      ]
     },
     "execution_count": 42,
     "metadata": {},
     "output_type": "execute_result"
    }
   ],
   "source": [
    "#Checking for null values\n",
    "ComputerPrice.isnull().sum()"
   ]
  },
  {
   "cell_type": "code",
   "execution_count": 43,
   "id": "23fc04f0",
   "metadata": {},
   "outputs": [
    {
     "data": {
      "text/html": [
       "<div>\n",
       "<style scoped>\n",
       "    .dataframe tbody tr th:only-of-type {\n",
       "        vertical-align: middle;\n",
       "    }\n",
       "\n",
       "    .dataframe tbody tr th {\n",
       "        vertical-align: top;\n",
       "    }\n",
       "\n",
       "    .dataframe thead th {\n",
       "        text-align: right;\n",
       "    }\n",
       "</style>\n",
       "<table border=\"1\" class=\"dataframe\">\n",
       "  <thead>\n",
       "    <tr style=\"text-align: right;\">\n",
       "      <th></th>\n",
       "      <th>price</th>\n",
       "      <th>speed</th>\n",
       "      <th>hd</th>\n",
       "      <th>ram</th>\n",
       "      <th>screen</th>\n",
       "      <th>cd</th>\n",
       "      <th>multi</th>\n",
       "      <th>premium</th>\n",
       "      <th>ads</th>\n",
       "      <th>trend</th>\n",
       "    </tr>\n",
       "  </thead>\n",
       "  <tbody>\n",
       "    <tr>\n",
       "      <th>count</th>\n",
       "      <td>6183.000000</td>\n",
       "      <td>6183.000000</td>\n",
       "      <td>6183.000000</td>\n",
       "      <td>6183.000000</td>\n",
       "      <td>6183.000000</td>\n",
       "      <td>6183</td>\n",
       "      <td>6183</td>\n",
       "      <td>6183</td>\n",
       "      <td>6183.000000</td>\n",
       "      <td>6183.000000</td>\n",
       "    </tr>\n",
       "    <tr>\n",
       "      <th>unique</th>\n",
       "      <td>NaN</td>\n",
       "      <td>NaN</td>\n",
       "      <td>NaN</td>\n",
       "      <td>NaN</td>\n",
       "      <td>NaN</td>\n",
       "      <td>2</td>\n",
       "      <td>2</td>\n",
       "      <td>2</td>\n",
       "      <td>NaN</td>\n",
       "      <td>NaN</td>\n",
       "    </tr>\n",
       "    <tr>\n",
       "      <th>top</th>\n",
       "      <td>NaN</td>\n",
       "      <td>NaN</td>\n",
       "      <td>NaN</td>\n",
       "      <td>NaN</td>\n",
       "      <td>NaN</td>\n",
       "      <td>no</td>\n",
       "      <td>no</td>\n",
       "      <td>yes</td>\n",
       "      <td>NaN</td>\n",
       "      <td>NaN</td>\n",
       "    </tr>\n",
       "    <tr>\n",
       "      <th>freq</th>\n",
       "      <td>NaN</td>\n",
       "      <td>NaN</td>\n",
       "      <td>NaN</td>\n",
       "      <td>NaN</td>\n",
       "      <td>NaN</td>\n",
       "      <td>3314</td>\n",
       "      <td>5325</td>\n",
       "      <td>5573</td>\n",
       "      <td>NaN</td>\n",
       "      <td>NaN</td>\n",
       "    </tr>\n",
       "    <tr>\n",
       "      <th>mean</th>\n",
       "      <td>2221.837943</td>\n",
       "      <td>52.129549</td>\n",
       "      <td>417.760796</td>\n",
       "      <td>8.305353</td>\n",
       "      <td>14.614265</td>\n",
       "      <td>NaN</td>\n",
       "      <td>NaN</td>\n",
       "      <td>NaN</td>\n",
       "      <td>220.906033</td>\n",
       "      <td>15.944364</td>\n",
       "    </tr>\n",
       "    <tr>\n",
       "      <th>std</th>\n",
       "      <td>582.042129</td>\n",
       "      <td>21.190655</td>\n",
       "      <td>259.458342</td>\n",
       "      <td>5.649178</td>\n",
       "      <td>0.907304</td>\n",
       "      <td>NaN</td>\n",
       "      <td>NaN</td>\n",
       "      <td>NaN</td>\n",
       "      <td>74.958628</td>\n",
       "      <td>7.903073</td>\n",
       "    </tr>\n",
       "    <tr>\n",
       "      <th>min</th>\n",
       "      <td>949.000000</td>\n",
       "      <td>25.000000</td>\n",
       "      <td>80.000000</td>\n",
       "      <td>2.000000</td>\n",
       "      <td>14.000000</td>\n",
       "      <td>NaN</td>\n",
       "      <td>NaN</td>\n",
       "      <td>NaN</td>\n",
       "      <td>39.000000</td>\n",
       "      <td>1.000000</td>\n",
       "    </tr>\n",
       "    <tr>\n",
       "      <th>25%</th>\n",
       "      <td>1794.000000</td>\n",
       "      <td>33.000000</td>\n",
       "      <td>214.000000</td>\n",
       "      <td>4.000000</td>\n",
       "      <td>14.000000</td>\n",
       "      <td>NaN</td>\n",
       "      <td>NaN</td>\n",
       "      <td>NaN</td>\n",
       "      <td>162.000000</td>\n",
       "      <td>10.000000</td>\n",
       "    </tr>\n",
       "    <tr>\n",
       "      <th>50%</th>\n",
       "      <td>2145.000000</td>\n",
       "      <td>50.000000</td>\n",
       "      <td>340.000000</td>\n",
       "      <td>8.000000</td>\n",
       "      <td>14.000000</td>\n",
       "      <td>NaN</td>\n",
       "      <td>NaN</td>\n",
       "      <td>NaN</td>\n",
       "      <td>246.000000</td>\n",
       "      <td>16.000000</td>\n",
       "    </tr>\n",
       "    <tr>\n",
       "      <th>75%</th>\n",
       "      <td>2595.000000</td>\n",
       "      <td>66.000000</td>\n",
       "      <td>528.000000</td>\n",
       "      <td>8.000000</td>\n",
       "      <td>15.000000</td>\n",
       "      <td>NaN</td>\n",
       "      <td>NaN</td>\n",
       "      <td>NaN</td>\n",
       "      <td>275.000000</td>\n",
       "      <td>22.000000</td>\n",
       "    </tr>\n",
       "    <tr>\n",
       "      <th>max</th>\n",
       "      <td>5399.000000</td>\n",
       "      <td>100.000000</td>\n",
       "      <td>2100.000000</td>\n",
       "      <td>32.000000</td>\n",
       "      <td>17.000000</td>\n",
       "      <td>NaN</td>\n",
       "      <td>NaN</td>\n",
       "      <td>NaN</td>\n",
       "      <td>339.000000</td>\n",
       "      <td>35.000000</td>\n",
       "    </tr>\n",
       "  </tbody>\n",
       "</table>\n",
       "</div>"
      ],
      "text/plain": [
       "              price        speed           hd          ram       screen    cd  \\\n",
       "count   6183.000000  6183.000000  6183.000000  6183.000000  6183.000000  6183   \n",
       "unique          NaN          NaN          NaN          NaN          NaN     2   \n",
       "top             NaN          NaN          NaN          NaN          NaN    no   \n",
       "freq            NaN          NaN          NaN          NaN          NaN  3314   \n",
       "mean    2221.837943    52.129549   417.760796     8.305353    14.614265   NaN   \n",
       "std      582.042129    21.190655   259.458342     5.649178     0.907304   NaN   \n",
       "min      949.000000    25.000000    80.000000     2.000000    14.000000   NaN   \n",
       "25%     1794.000000    33.000000   214.000000     4.000000    14.000000   NaN   \n",
       "50%     2145.000000    50.000000   340.000000     8.000000    14.000000   NaN   \n",
       "75%     2595.000000    66.000000   528.000000     8.000000    15.000000   NaN   \n",
       "max     5399.000000   100.000000  2100.000000    32.000000    17.000000   NaN   \n",
       "\n",
       "       multi premium          ads        trend  \n",
       "count   6183    6183  6183.000000  6183.000000  \n",
       "unique     2       2          NaN          NaN  \n",
       "top       no     yes          NaN          NaN  \n",
       "freq    5325    5573          NaN          NaN  \n",
       "mean     NaN     NaN   220.906033    15.944364  \n",
       "std      NaN     NaN    74.958628     7.903073  \n",
       "min      NaN     NaN    39.000000     1.000000  \n",
       "25%      NaN     NaN   162.000000    10.000000  \n",
       "50%      NaN     NaN   246.000000    16.000000  \n",
       "75%      NaN     NaN   275.000000    22.000000  \n",
       "max      NaN     NaN   339.000000    35.000000  "
      ]
     },
     "execution_count": 43,
     "metadata": {},
     "output_type": "execute_result"
    }
   ],
   "source": [
    "ComputerPrice.describe(include='all')"
   ]
  },
  {
   "cell_type": "markdown",
   "id": "39e6183a",
   "metadata": {},
   "source": [
    "# Defining the problem statement: \n",
    "#### Predict the appropriate value of a computer based on its characteristics\n",
    "* Target Variable: price\n",
    "* Predictors: speed,hd,ram,screen,cd,multi,ads,premium,trend"
   ]
  },
  {
   "cell_type": "markdown",
   "id": "3b314947",
   "metadata": {},
   "source": [
    "# Determining the type of Machine Learning Algorithm\n",
    "Based on the problem statement we need to create a **supervised ML Regression model**, as the target variable is Continuous."
   ]
  },
  {
   "cell_type": "markdown",
   "id": "97cb6284",
   "metadata": {},
   "source": [
    "# Looking at the distribution of Target variable\n",
    "* If target variable's distribution is too skewed then the predictive modeling will not be possible.\n",
    "* Bell curve is desirable but slightly positive skew or negative skew is also fine\n",
    "* When performing Regression, make sure the histogram looks like a bell curve or slight skewed version of it. Otherwise it impacts the Machine Learning algorithms ability to learn all the scenarios."
   ]
  },
  {
   "cell_type": "code",
   "execution_count": 44,
   "id": "c9366bc6",
   "metadata": {},
   "outputs": [
    {
     "data": {
      "text/plain": [
       "<AxesSubplot:>"
      ]
     },
     "execution_count": 44,
     "metadata": {},
     "output_type": "execute_result"
    },
    {
     "data": {
      "image/png": "[encoded data removed]",
      "text/plain": [
       "<Figure size 432x288 with 1 Axes>"
      ]
     },
     "metadata": {
      "needs_background": "light"
     },
     "output_type": "display_data"
    }
   ],
   "source": [
    "ComputerPrice['price'].hist()"
   ]
  },
  {
   "cell_type": "code",
   "execution_count": 45,
   "id": "81d73cd0",
   "metadata": {},
   "outputs": [
    {
     "data": {
      "text/html": [
       "<div>\n",
       "<style scoped>\n",
       "    .dataframe tbody tr th:only-of-type {\n",
       "        vertical-align: middle;\n",
       "    }\n",
       "\n",
       "    .dataframe tbody tr th {\n",
       "        vertical-align: top;\n",
       "    }\n",
       "\n",
       "    .dataframe thead th {\n",
       "        text-align: right;\n",
       "    }\n",
       "</style>\n",
       "<table border=\"1\" class=\"dataframe\">\n",
       "  <thead>\n",
       "    <tr style=\"text-align: right;\">\n",
       "      <th></th>\n",
       "      <th>price</th>\n",
       "      <th>speed</th>\n",
       "      <th>hd</th>\n",
       "      <th>ram</th>\n",
       "      <th>screen</th>\n",
       "      <th>cd</th>\n",
       "      <th>multi</th>\n",
       "      <th>premium</th>\n",
       "      <th>ads</th>\n",
       "      <th>trend</th>\n",
       "    </tr>\n",
       "  </thead>\n",
       "  <tbody>\n",
       "    <tr>\n",
       "      <th>0</th>\n",
       "      <td>1499</td>\n",
       "      <td>25</td>\n",
       "      <td>80</td>\n",
       "      <td>4</td>\n",
       "      <td>14</td>\n",
       "      <td>no</td>\n",
       "      <td>no</td>\n",
       "      <td>yes</td>\n",
       "      <td>94</td>\n",
       "      <td>1</td>\n",
       "    </tr>\n",
       "    <tr>\n",
       "      <th>1</th>\n",
       "      <td>1795</td>\n",
       "      <td>33</td>\n",
       "      <td>85</td>\n",
       "      <td>2</td>\n",
       "      <td>14</td>\n",
       "      <td>no</td>\n",
       "      <td>no</td>\n",
       "      <td>yes</td>\n",
       "      <td>94</td>\n",
       "      <td>1</td>\n",
       "    </tr>\n",
       "    <tr>\n",
       "      <th>2</th>\n",
       "      <td>1595</td>\n",
       "      <td>25</td>\n",
       "      <td>170</td>\n",
       "      <td>4</td>\n",
       "      <td>15</td>\n",
       "      <td>no</td>\n",
       "      <td>no</td>\n",
       "      <td>yes</td>\n",
       "      <td>94</td>\n",
       "      <td>1</td>\n",
       "    </tr>\n",
       "    <tr>\n",
       "      <th>3</th>\n",
       "      <td>1849</td>\n",
       "      <td>25</td>\n",
       "      <td>170</td>\n",
       "      <td>8</td>\n",
       "      <td>14</td>\n",
       "      <td>no</td>\n",
       "      <td>no</td>\n",
       "      <td>no</td>\n",
       "      <td>94</td>\n",
       "      <td>1</td>\n",
       "    </tr>\n",
       "    <tr>\n",
       "      <th>4</th>\n",
       "      <td>3295</td>\n",
       "      <td>33</td>\n",
       "      <td>340</td>\n",
       "      <td>16</td>\n",
       "      <td>14</td>\n",
       "      <td>no</td>\n",
       "      <td>no</td>\n",
       "      <td>yes</td>\n",
       "      <td>94</td>\n",
       "      <td>1</td>\n",
       "    </tr>\n",
       "  </tbody>\n",
       "</table>\n",
       "</div>"
      ],
      "text/plain": [
       "   price  speed   hd  ram  screen  cd multi premium  ads  trend\n",
       "0   1499     25   80    4      14  no    no     yes   94      1\n",
       "1   1795     33   85    2      14  no    no     yes   94      1\n",
       "2   1595     25  170    4      15  no    no     yes   94      1\n",
       "3   1849     25  170    8      14  no    no      no   94      1\n",
       "4   3295     33  340   16      14  no    no     yes   94      1"
      ]
     },
     "execution_count": 45,
     "metadata": {},
     "output_type": "execute_result"
    }
   ],
   "source": [
    "ComputerPrice.head()"
   ]
  },
  {
   "cell_type": "code",
   "execution_count": 46,
   "id": "d86f5446",
   "metadata": {},
   "outputs": [
    {
     "data": {
      "text/plain": [
       "66     2006\n",
       "33     1987\n",
       "50      992\n",
       "25      560\n",
       "100     516\n",
       "75      122\n",
       "Name: speed, dtype: int64"
      ]
     },
     "execution_count": 46,
     "metadata": {},
     "output_type": "execute_result"
    }
   ],
   "source": [
    "ComputerPrice['speed'].value_counts()"
   ]
  },
  {
   "cell_type": "code",
   "execution_count": 47,
   "id": "dffa6465",
   "metadata": {},
   "outputs": [
    {
     "data": {
      "text/plain": [
       "price      808\n",
       "speed        6\n",
       "hd          59\n",
       "ram          6\n",
       "screen       3\n",
       "cd           2\n",
       "multi        2\n",
       "premium      2\n",
       "ads         34\n",
       "trend       35\n",
       "dtype: int64"
      ]
     },
     "execution_count": 47,
     "metadata": {},
     "output_type": "execute_result"
    }
   ],
   "source": [
    "ComputerPrice.nunique()"
   ]
  },
  {
   "cell_type": "markdown",
   "id": "fa479f74",
   "metadata": {},
   "source": [
    "# Basic Data Exploration Results\n",
    "\n",
    "Typically a categorical variable contains less than 20 Unique values\n",
    "\n",
    "* **Price:** Continuous. **Target Variable**\n",
    "\n",
    "* **Speed:** Categorical\n",
    "\n",
    "* **hd:** Continuous\n",
    "\n",
    "* **ram:** Categorical\n",
    "\n",
    "* **screen:** Categorical\n",
    "\n",
    "* **cd**: Categorical\n",
    "\n",
    "* **multi:** Categorical\n",
    "\n",
    "* **premium:** Categorical\n",
    "\n",
    "* **ads:** Continuous\n",
    "\n",
    "* **trend:** Continuous"
   ]
  },
  {
   "cell_type": "markdown",
   "id": "dc18845e",
   "metadata": {},
   "source": [
    "# Visual Exploratory Data Analysis\n",
    "* Categorical variables: Bar plot\n",
    "* Continuous variables: Histogram\n",
    "\n",
    "**Categorical Predictors:** speed,ram,screen,cd,premium,multi"
   ]
  },
  {
   "cell_type": "code",
   "execution_count": 48,
   "id": "ade47db3",
   "metadata": {},
   "outputs": [],
   "source": [
    "# Plotting multiple bar charts at once for categorical variables\n",
    "# Since there is no default function which can plot bar charts for multiple columns at once\n",
    "# we are defining our own function for the same\n",
    "\n",
    "def PlotCat(InpData,ColsToPlot):\n",
    "    \n",
    "    #Generating multiple subplots\n",
    "    fig,subplot=plt.subplots(nrows=1,ncols=len(ColsToPlot),figsize=(30,7))\n",
    "\n",
    "    for ColName, PlotNum in zip(ColsToPlot,range(len(ColsToPlot))):\n",
    "        InpData.groupby(ColName).size().plot(kind='bar',ax=subplot[PlotNum])"
   ]
  },
  {
   "cell_type": "code",
   "execution_count": 49,
   "id": "dbe68900",
   "metadata": {
    "scrolled": true
   },
   "outputs": [
    {
     "data": {
      "image/png": "[encoded data removed]",
      "text/plain": [
       "<Figure size 2160x504 with 6 Axes>"
      ]
     },
     "metadata": {
      "needs_background": "light"
     },
     "output_type": "display_data"
    }
   ],
   "source": [
    "# Calling the function\n",
    "PlotCat(InpData=ComputerPrice, ColsToPlot=['speed','ram','screen','cd','premium','multi'])"
   ]
  },
  {
   "cell_type": "markdown",
   "id": "3302bf92",
   "metadata": {},
   "source": [
    "## Bar Charts Interpretation\n",
    "These bar charts represent the frequencies of each category in the Y-axis and the category names in the X-axis.\n",
    "\n",
    "In the ideal bar chart each category has comparable frequency. Hence, there are enough rows for each category in the data for the ML algorithm to learn.\n",
    "\n",
    "If there is a column which shows too skewed distribution where there is only one dominant bar and the other categories are present in very low numbers. These kind of columns may not be very helpful in machine learning. We confirm this in the correlation analysis section and take a final call to select or reject the column.\n",
    "\n",
    "<b>Selected Categorical Variables</b>: All the categorical variables are selected for further analysis.\n",
    "\n",
    "'speed', 'ram', 'screen', 'cd', 'premium', 'multi'"
   ]
  },
  {
   "cell_type": "markdown",
   "id": "32eae778",
   "metadata": {},
   "source": [
    "### Visualize distribution of all the Continuous Predictor variables in the data using histograms\n",
    "Based on the Basic Data Exploration, the continuous predictor variables are 'hd', 'ads', 'trend'"
   ]
  },
  {
   "cell_type": "markdown",
   "id": "97a8f7ad",
   "metadata": {},
   "source": [
    "#ASk??\n",
    "#def PlotCont(InpData,ColsToPlot):\n",
    "    \n",
    "    #Generating multiple subplots\n",
    "    fig,subplot=plt.subplots(nrows=1,ncols=len(ColsToPlot),figsize=(30,7))\n",
    "    fig.suptitle(str(ColsToPlot))\n",
    "    for ColName, PlotNum in zip(ColsToPlot,range(len(ColsToPlot))):\n",
    "        InpData.groupby(ColName).plot(kind='hist',ax=subplot[PlotNum])"
   ]
  },
  {
   "cell_type": "code",
   "execution_count": 50,
   "id": "85d11d92",
   "metadata": {},
   "outputs": [
    {
     "data": {
      "text/plain": [
       "array([[<AxesSubplot:title={'center':'hd'}>,\n",
       "        <AxesSubplot:title={'center':'ads'}>],\n",
       "       [<AxesSubplot:title={'center':'trend'}>, <AxesSubplot:>]],\n",
       "      dtype=object)"
      ]
     },
     "execution_count": 50,
     "metadata": {},
     "output_type": "execute_result"
    },
    {
     "data": {
      "image/png": "[encoded data removed]",
      "text/plain": [
       "<Figure size 1080x1080 with 4 Axes>"
      ]
     },
     "metadata": {
      "needs_background": "light"
     },
     "output_type": "display_data"
    }
   ],
   "source": [
    "ComputerPrice.hist(['hd', 'ads', 'trend'],figsize=(15,15))"
   ]
  },
  {
   "cell_type": "markdown",
   "id": "15740c01",
   "metadata": {},
   "source": [
    "## Histogram Interpretation\n",
    "Histograms shows us the data distribution for a single continuous variable.\n",
    "\n",
    "The ideal outcome for histogram is a bell curve or slightly skewed bell curve. If there is too much skewness, then outlier treatment should be done and the column should be re-examined, if that also does not solve the problem then only reject the column.\n",
    "\n",
    "<b>Selected Continuous Variables:</b>\n",
    "* <b>hd</b> : Selected. Outliers are seen beyond 350.\n",
    "* <b>ads</b>: Selected. \n",
    "* <b>trend</b>: Selected."
   ]
  },
  {
   "cell_type": "markdown",
   "id": "99f3355f",
   "metadata": {},
   "source": [
    "# Outlier treatment\n",
    "Outliers are extreme values in the data which are far away from most of the values. \n",
    "\n",
    "Outlier must be treated one column at a time. As the treatment will be slightly different for each column.\n",
    "\n",
    "<b>Why I should treat the outliers?</b>\n",
    "\n",
    "Outliers bias the training of machine learning models. As the algorithm tries to fit the extreme value, it goes away from majority of the data.\n",
    "\n",
    "There are below two options to treat outliers in the data. \n",
    "\n",
    "* Option-1: Delete the outlier Records. Only if there are just few rows lost.\n",
    "* Option-2: Impute the outlier values with a logical business value\n",
    "\n",
    "Below we are finding out the most logical value to be replaced in place of outliers by looking at the histogram."
   ]
  },
  {
   "cell_type": "code",
   "execution_count": 51,
   "id": "6d2a8f4d",
   "metadata": {},
   "outputs": [
    {
     "data": {
      "text/plain": [
       "19"
      ]
     },
     "execution_count": 51,
     "metadata": {},
     "output_type": "execute_result"
    }
   ],
   "source": [
    "# Counting the number of rows having outliers\n",
    "len(ComputerPrice[ComputerPrice['hd']>=1600])"
   ]
  },
  {
   "cell_type": "code",
   "execution_count": 52,
   "id": "91b96a87",
   "metadata": {},
   "outputs": [
    {
     "data": {
      "text/plain": [
       "2042    1370\n",
       "900     1370\n",
       "720     1370\n",
       "1524    1370\n",
       "1688    1370\n",
       "        ... \n",
       "699       80\n",
       "25        80\n",
       "1413      80\n",
       "79        80\n",
       "0         80\n",
       "Name: hd, Length: 6164, dtype: int64"
      ]
     },
     "execution_count": 52,
     "metadata": {},
     "output_type": "execute_result"
    }
   ],
   "source": [
    "ComputerPrice['hd'][ComputerPrice['hd']<1600].sort_values(ascending=False)"
   ]
  },
  {
   "cell_type": "code",
   "execution_count": 53,
   "id": "8bfa717e",
   "metadata": {},
   "outputs": [],
   "source": [
    "ComputerPrice['hd'][ComputerPrice['hd']>1600]=1300"
   ]
  },
  {
   "cell_type": "markdown",
   "id": "49d26dfb",
   "metadata": {},
   "source": [
    "**Visualizing the distribution after outlier treatment**"
   ]
  },
  {
   "cell_type": "code",
   "execution_count": 54,
   "id": "f00637ae",
   "metadata": {},
   "outputs": [
    {
     "data": {
      "text/plain": [
       "<AxesSubplot:>"
      ]
     },
     "execution_count": 54,
     "metadata": {},
     "output_type": "execute_result"
    },
    {
     "data": {
      "image/png": "[encoded data removed]",
      "text/plain": [
       "<Figure size 432x288 with 1 Axes>"
      ]
     },
     "metadata": {
      "needs_background": "light"
     },
     "output_type": "display_data"
    }
   ],
   "source": [
    "ComputerPrice['hd'].hist()"
   ]
  },
  {
   "cell_type": "markdown",
   "id": "4f8fda82",
   "metadata": {},
   "source": [
    "# Feature Selection (Bi-Variate analysis)\n",
    "The best columns/features which are correlated to the Target Variable are estimated by measuring the correlation values or ANOVA/Chi-Square tests.\n",
    "\n",
    "## Visual exploration of relationship between variables\n",
    "* Continuous Vs Continuous ---- Scatter Plot\n",
    "* Categorical Vs Continuous---- Box Plot\n",
    "* Categorical Vs Categorical---- Grouped Bar Plots\n",
    "\n",
    "## Statistical measurement of relationship strength between variables\n",
    "* Continuous Vs Continuous ---- Correlation matrix\n",
    "* Categorical Vs Continuous---- ANOVA test\n",
    "* Categorical Vs Categorical--- Chi-Square test\n",
    "\n",
    "In this case study the Target variable is Continuous, hence below two scenarios will be present\n",
    "* Continuous Target Variable Vs Continuous Predictor\n",
    "* Continuous Target Variable Vs Categorical Predictor"
   ]
  },
  {
   "cell_type": "code",
   "execution_count": 55,
   "id": "24b6f8ae",
   "metadata": {},
   "outputs": [
    {
     "data": {
      "image/png": "[encoded data removed]",
      "text/plain": [
       "<Figure size 360x360 with 1 Axes>"
      ]
     },
     "metadata": {
      "needs_background": "light"
     },
     "output_type": "display_data"
    },
    {
     "data": {
      "image/png": "[encoded data removed]",
      "text/plain": [
       "<Figure size 360x360 with 1 Axes>"
      ]
     },
     "metadata": {
      "needs_background": "light"
     },
     "output_type": "display_data"
    },
    {
     "data": {
      "image/png": "[encoded data removed]",
      "text/plain": [
       "<Figure size 360x360 with 1 Axes>"
      ]
     },
     "metadata": {
      "needs_background": "light"
     },
     "output_type": "display_data"
    }
   ],
   "source": [
    "ContCols=['hd','ads','trend']\n",
    "\n",
    "# Plotting scatter chart for each predictor vs the target variable\n",
    "for predictor in ContCols:\n",
    "    sns.lmplot(data=ComputerPrice,x=predictor,y='price')"
   ]
  },
  {
   "cell_type": "markdown",
   "id": "5c3c29fc",
   "metadata": {},
   "source": [
    "# Scatter charts interpretation\n",
    "\n",
    "See if there is a visible trend or not. There could be three scenarios:\n",
    "1. Increasing Trend:\n",
    "This means both variables are positively correlated.\n",
    "\n",
    "2. Decreasing Trend:\n",
    "This means both variables are negatively correlated. \n",
    "\n",
    "3. No Trend:\n",
    "You cannot see any clear increasing or decreasing trend. This means there is no correlation between the variables. Hence the predictor cannot be used for ML.\n"
   ]
  },
  {
   "cell_type": "markdown",
   "id": "63deffbc",
   "metadata": {},
   "source": [
    "# Statistical Feature Selection (Continuous Vs Continuous) using Correlation value\n",
    "\n",
    "* Correlation between (-1,0) means inversely proportional, the scatter plot will show a downward trend\n",
    "* Correlation between (0,1) means directly proportional, the scatter plot will show a upward trend\n",
    "* Correlation near {0} means No relationship, the scatter plot will show no clear trend.\n",
    "* If Correlation value between two variables is > 0.5 in magnitude, it indicates good relationship <b>the sign does not matter</b>"
   ]
  },
  {
   "cell_type": "markdown",
   "id": "a34f6f7c",
   "metadata": {},
   "source": [
    "**Calculating Correlation matrix**"
   ]
  },
  {
   "cell_type": "code",
   "execution_count": 56,
   "id": "bd888c7b",
   "metadata": {},
   "outputs": [
    {
     "data": {
      "text/html": [
       "<div>\n",
       "<style scoped>\n",
       "    .dataframe tbody tr th:only-of-type {\n",
       "        vertical-align: middle;\n",
       "    }\n",
       "\n",
       "    .dataframe tbody tr th {\n",
       "        vertical-align: top;\n",
       "    }\n",
       "\n",
       "    .dataframe thead th {\n",
       "        text-align: right;\n",
       "    }\n",
       "</style>\n",
       "<table border=\"1\" class=\"dataframe\">\n",
       "  <thead>\n",
       "    <tr style=\"text-align: right;\">\n",
       "      <th></th>\n",
       "      <th>price</th>\n",
       "      <th>hd</th>\n",
       "      <th>ads</th>\n",
       "      <th>trend</th>\n",
       "    </tr>\n",
       "  </thead>\n",
       "  <tbody>\n",
       "    <tr>\n",
       "      <th>price</th>\n",
       "      <td>1.000000</td>\n",
       "      <td>0.428824</td>\n",
       "      <td>0.056434</td>\n",
       "      <td>-0.201662</td>\n",
       "    </tr>\n",
       "    <tr>\n",
       "      <th>hd</th>\n",
       "      <td>0.428824</td>\n",
       "      <td>1.000000</td>\n",
       "      <td>-0.325675</td>\n",
       "      <td>0.580700</td>\n",
       "    </tr>\n",
       "    <tr>\n",
       "      <th>ads</th>\n",
       "      <td>0.056434</td>\n",
       "      <td>-0.325675</td>\n",
       "      <td>1.000000</td>\n",
       "      <td>-0.320626</td>\n",
       "    </tr>\n",
       "    <tr>\n",
       "      <th>trend</th>\n",
       "      <td>-0.201662</td>\n",
       "      <td>0.580700</td>\n",
       "      <td>-0.320626</td>\n",
       "      <td>1.000000</td>\n",
       "    </tr>\n",
       "  </tbody>\n",
       "</table>\n",
       "</div>"
      ],
      "text/plain": [
       "          price        hd       ads     trend\n",
       "price  1.000000  0.428824  0.056434 -0.201662\n",
       "hd     0.428824  1.000000 -0.325675  0.580700\n",
       "ads    0.056434 -0.325675  1.000000 -0.320626\n",
       "trend -0.201662  0.580700 -0.320626  1.000000"
      ]
     },
     "execution_count": 56,
     "metadata": {},
     "output_type": "execute_result"
    }
   ],
   "source": [
    "Cols=['price','hd','ads','trend']\n",
    "ComputerPrice[Cols].corr()"
   ]
  },
  {
   "cell_type": "markdown",
   "id": "4eced605",
   "metadata": {},
   "source": [
    "**Final selected column:** hd, trend"
   ]
  },
  {
   "cell_type": "markdown",
   "id": "3c1059a3",
   "metadata": {},
   "source": [
    "# Relationship exploration: Categorical Vs Continuous -- Box Plots"
   ]
  },
  {
   "cell_type": "code",
   "execution_count": 57,
   "id": "7726f2ca",
   "metadata": {},
   "outputs": [
    {
     "data": {
      "image/png": "[encoded data removed]",
      "text/plain": [
       "<Figure size 2160x720 with 6 Axes>"
      ]
     },
     "metadata": {
      "needs_background": "light"
     },
     "output_type": "display_data"
    }
   ],
   "source": [
    "CatCols=['speed','ram','screen','cd','multi','premium']\n",
    "\n",
    "fig,subplot=plt.subplots(nrows=1,ncols=len(CatCols),figsize=(30,10))\n",
    "\n",
    "for PredCol,PlotNum in zip(CatCols, range(len(CatCols))):\n",
    "    ComputerPrice.boxplot(column='price',by=PredCol,ax=subplot[PlotNum])\n"
   ]
  },
  {
   "cell_type": "markdown",
   "id": "1d72d682",
   "metadata": {},
   "source": [
    "# Box-Plots interpretation\n",
    "<b>What should you look for in these box plots? </b>\n",
    "\n",
    "These plots gives an idea about the data distribution of continuous predictor in the Y-axis for each of the category in the X-Axis.\n",
    "\n",
    "If the distribution looks similar for each category(Boxes are in the same line), that means the the continuous variable has NO effect on the target variable. Hence, the variables are not correlated to each other.\n",
    "\n",
    "On the other hand if the distribution is different for each category(the boxes are not in same line!). It hints that these variables might be correlated with Price."
   ]
  },
  {
   "cell_type": "markdown",
   "id": "c5f6c476",
   "metadata": {},
   "source": [
    "# Statistical Feature Selection (Categorical Vs Continuous) using ANOVA test\n",
    "Analysis of variance(ANOVA) is performed to check if there is any relationship between the given continuous and categorical variable\n",
    "* Assumption(H0): There is NO relation between the given variables (i.e. The average(mean) values of the numeric Target variable is same for all the groups in the categorical Predictor variable)\n",
    "* ANOVA Test result: Probability of H0 being true"
   ]
  },
  {
   "cell_type": "code",
   "execution_count": 58,
   "id": "aae19e12",
   "metadata": {},
   "outputs": [],
   "source": [
    "from scipy.stats import f_oneway"
   ]
  },
  {
   "cell_type": "code",
   "execution_count": 59,
   "id": "270b0fc8",
   "metadata": {},
   "outputs": [],
   "source": [
    "# Defining a function to find the statistical relationship with all the categorical variables\n",
    "def FuncAnova(InpData,TargetVariable,Predictors):\n",
    "    \n",
    "    # Creating an empty list of final selected predictors\n",
    "    SelectedPreds=[]\n",
    "    \n",
    "    for Pred in Predictors:\n",
    "        CatPredList=InpData.groupby(Pred)[TargetVariable].apply(list)\n",
    "        Anova=f_oneway(*CatPredList) #unpacks the list\n",
    "    \n",
    "        # If the ANOVA P-Value is <0.05, that means we reject H0\n",
    "        if(Anova[1]<0.05):\n",
    "            print(Pred,'is correlated with',TargetVariable,' | P-value:', Anova[1])\n",
    "            SelectedPreds.append(Pred)\n",
    "        else:\n",
    "            print(Pred,'is NOT correlated with', TargetVariable,' | P-value:',Anova[1])\n",
    "            \n",
    "    return(SelectedPreds)"
   ]
  },
  {
   "cell_type": "code",
   "execution_count": 60,
   "id": "1c13c2ce",
   "metadata": {},
   "outputs": [
    {
     "name": "stdout",
     "output_type": "stream",
     "text": [
      "speed is correlated with price  | P-value: 1.8447972027036634e-153\n",
      "ram is correlated with price  | P-value: 0.0\n",
      "screen is correlated with price  | P-value: 1.2830206408407136e-129\n",
      "cd is correlated with price  | P-value: 8.113565801487017e-55\n",
      "multi is NOT correlated with price  | P-value: 0.19076936432204794\n",
      "premium is correlated with price  | P-value: 2.7969949437607514e-10\n"
     ]
    },
    {
     "data": {
      "text/plain": [
       "['speed', 'ram', 'screen', 'cd', 'premium']"
      ]
     },
     "execution_count": 60,
     "metadata": {},
     "output_type": "execute_result"
    }
   ],
   "source": [
    "FuncAnova(InpData=ComputerPrice, TargetVariable='price',Predictors=CatCols)"
   ]
  },
  {
   "cell_type": "markdown",
   "id": "c902b792",
   "metadata": {},
   "source": [
    "**Final selected categorical columns:**  ['speed', 'ram', 'screen', 'cd', 'premium'] "
   ]
  },
  {
   "cell_type": "markdown",
   "id": "528abe28",
   "metadata": {},
   "source": [
    "# Selecting final predictors for Machine Learning\n",
    "Based on the above tests, selecting the final columns for machine learning"
   ]
  },
  {
   "cell_type": "code",
   "execution_count": 61,
   "id": "0f30d971",
   "metadata": {},
   "outputs": [
    {
     "data": {
      "text/html": [
       "<div>\n",
       "<style scoped>\n",
       "    .dataframe tbody tr th:only-of-type {\n",
       "        vertical-align: middle;\n",
       "    }\n",
       "\n",
       "    .dataframe tbody tr th {\n",
       "        vertical-align: top;\n",
       "    }\n",
       "\n",
       "    .dataframe thead th {\n",
       "        text-align: right;\n",
       "    }\n",
       "</style>\n",
       "<table border=\"1\" class=\"dataframe\">\n",
       "  <thead>\n",
       "    <tr style=\"text-align: right;\">\n",
       "      <th></th>\n",
       "      <th>hd</th>\n",
       "      <th>trend</th>\n",
       "      <th>speed</th>\n",
       "      <th>ram</th>\n",
       "      <th>screen</th>\n",
       "      <th>cd</th>\n",
       "      <th>premium</th>\n",
       "    </tr>\n",
       "  </thead>\n",
       "  <tbody>\n",
       "    <tr>\n",
       "      <th>0</th>\n",
       "      <td>80</td>\n",
       "      <td>1</td>\n",
       "      <td>25</td>\n",
       "      <td>4</td>\n",
       "      <td>14</td>\n",
       "      <td>no</td>\n",
       "      <td>yes</td>\n",
       "    </tr>\n",
       "    <tr>\n",
       "      <th>1</th>\n",
       "      <td>85</td>\n",
       "      <td>1</td>\n",
       "      <td>33</td>\n",
       "      <td>2</td>\n",
       "      <td>14</td>\n",
       "      <td>no</td>\n",
       "      <td>yes</td>\n",
       "    </tr>\n",
       "    <tr>\n",
       "      <th>2</th>\n",
       "      <td>170</td>\n",
       "      <td>1</td>\n",
       "      <td>25</td>\n",
       "      <td>4</td>\n",
       "      <td>15</td>\n",
       "      <td>no</td>\n",
       "      <td>yes</td>\n",
       "    </tr>\n",
       "    <tr>\n",
       "      <th>3</th>\n",
       "      <td>170</td>\n",
       "      <td>1</td>\n",
       "      <td>25</td>\n",
       "      <td>8</td>\n",
       "      <td>14</td>\n",
       "      <td>no</td>\n",
       "      <td>no</td>\n",
       "    </tr>\n",
       "    <tr>\n",
       "      <th>4</th>\n",
       "      <td>340</td>\n",
       "      <td>1</td>\n",
       "      <td>33</td>\n",
       "      <td>16</td>\n",
       "      <td>14</td>\n",
       "      <td>no</td>\n",
       "      <td>yes</td>\n",
       "    </tr>\n",
       "  </tbody>\n",
       "</table>\n",
       "</div>"
      ],
      "text/plain": [
       "    hd  trend  speed  ram  screen  cd premium\n",
       "0   80      1     25    4      14  no     yes\n",
       "1   85      1     33    2      14  no     yes\n",
       "2  170      1     25    4      15  no     yes\n",
       "3  170      1     25    8      14  no      no\n",
       "4  340      1     33   16      14  no     yes"
      ]
     },
     "execution_count": 61,
     "metadata": {},
     "output_type": "execute_result"
    }
   ],
   "source": [
    "Predictors=['hd','trend','speed', 'ram', 'screen', 'cd', 'premium']\n",
    "\n",
    "final_df=ComputerPrice[Predictors]\n",
    "final_df.head()"
   ]
  },
  {
   "cell_type": "markdown",
   "id": "13032d96",
   "metadata": {},
   "source": [
    "## Data Pre-processing for Machine Learning\n",
    "\n",
    "1. Converting each Ordinal Categorical columns to numeric\n",
    "2. Converting Binary nominal Categorical columns to numeric using 1/0 mapping\n",
    "3. Converting all other nominal categorical columns to numeric using pd.get_dummies()\n",
    "4. Data Transformation (Optional): Standardization/Normalization/log/sqrt. \n",
    "\n",
    "In this data there is no Ordinal categorical variable which is in string format."
   ]
  },
  {
   "cell_type": "code",
   "execution_count": 62,
   "id": "1958615b",
   "metadata": {},
   "outputs": [
    {
     "data": {
      "text/html": [
       "<div>\n",
       "<style scoped>\n",
       "    .dataframe tbody tr th:only-of-type {\n",
       "        vertical-align: middle;\n",
       "    }\n",
       "\n",
       "    .dataframe tbody tr th {\n",
       "        vertical-align: top;\n",
       "    }\n",
       "\n",
       "    .dataframe thead th {\n",
       "        text-align: right;\n",
       "    }\n",
       "</style>\n",
       "<table border=\"1\" class=\"dataframe\">\n",
       "  <thead>\n",
       "    <tr style=\"text-align: right;\">\n",
       "      <th></th>\n",
       "      <th>hd</th>\n",
       "      <th>trend</th>\n",
       "      <th>speed</th>\n",
       "      <th>ram</th>\n",
       "      <th>screen</th>\n",
       "      <th>cd</th>\n",
       "      <th>premium</th>\n",
       "    </tr>\n",
       "  </thead>\n",
       "  <tbody>\n",
       "    <tr>\n",
       "      <th>0</th>\n",
       "      <td>80</td>\n",
       "      <td>1</td>\n",
       "      <td>25</td>\n",
       "      <td>4</td>\n",
       "      <td>14</td>\n",
       "      <td>0</td>\n",
       "      <td>1</td>\n",
       "    </tr>\n",
       "    <tr>\n",
       "      <th>1</th>\n",
       "      <td>85</td>\n",
       "      <td>1</td>\n",
       "      <td>33</td>\n",
       "      <td>2</td>\n",
       "      <td>14</td>\n",
       "      <td>0</td>\n",
       "      <td>1</td>\n",
       "    </tr>\n",
       "    <tr>\n",
       "      <th>2</th>\n",
       "      <td>170</td>\n",
       "      <td>1</td>\n",
       "      <td>25</td>\n",
       "      <td>4</td>\n",
       "      <td>15</td>\n",
       "      <td>0</td>\n",
       "      <td>1</td>\n",
       "    </tr>\n",
       "    <tr>\n",
       "      <th>3</th>\n",
       "      <td>170</td>\n",
       "      <td>1</td>\n",
       "      <td>25</td>\n",
       "      <td>8</td>\n",
       "      <td>14</td>\n",
       "      <td>0</td>\n",
       "      <td>0</td>\n",
       "    </tr>\n",
       "    <tr>\n",
       "      <th>4</th>\n",
       "      <td>340</td>\n",
       "      <td>1</td>\n",
       "      <td>33</td>\n",
       "      <td>16</td>\n",
       "      <td>14</td>\n",
       "      <td>0</td>\n",
       "      <td>1</td>\n",
       "    </tr>\n",
       "    <tr>\n",
       "      <th>...</th>\n",
       "      <td>...</td>\n",
       "      <td>...</td>\n",
       "      <td>...</td>\n",
       "      <td>...</td>\n",
       "      <td>...</td>\n",
       "      <td>...</td>\n",
       "      <td>...</td>\n",
       "    </tr>\n",
       "    <tr>\n",
       "      <th>6254</th>\n",
       "      <td>528</td>\n",
       "      <td>35</td>\n",
       "      <td>100</td>\n",
       "      <td>8</td>\n",
       "      <td>15</td>\n",
       "      <td>0</td>\n",
       "      <td>1</td>\n",
       "    </tr>\n",
       "    <tr>\n",
       "      <th>6255</th>\n",
       "      <td>850</td>\n",
       "      <td>35</td>\n",
       "      <td>66</td>\n",
       "      <td>16</td>\n",
       "      <td>15</td>\n",
       "      <td>1</td>\n",
       "      <td>1</td>\n",
       "    </tr>\n",
       "    <tr>\n",
       "      <th>6256</th>\n",
       "      <td>1200</td>\n",
       "      <td>35</td>\n",
       "      <td>100</td>\n",
       "      <td>24</td>\n",
       "      <td>15</td>\n",
       "      <td>1</td>\n",
       "      <td>1</td>\n",
       "    </tr>\n",
       "    <tr>\n",
       "      <th>6257</th>\n",
       "      <td>850</td>\n",
       "      <td>35</td>\n",
       "      <td>100</td>\n",
       "      <td>16</td>\n",
       "      <td>15</td>\n",
       "      <td>1</td>\n",
       "      <td>1</td>\n",
       "    </tr>\n",
       "    <tr>\n",
       "      <th>6258</th>\n",
       "      <td>850</td>\n",
       "      <td>35</td>\n",
       "      <td>100</td>\n",
       "      <td>16</td>\n",
       "      <td>17</td>\n",
       "      <td>1</td>\n",
       "      <td>1</td>\n",
       "    </tr>\n",
       "  </tbody>\n",
       "</table>\n",
       "<p>6183 rows × 7 columns</p>\n",
       "</div>"
      ],
      "text/plain": [
       "        hd  trend  speed  ram  screen  cd  premium\n",
       "0       80      1     25    4      14   0        1\n",
       "1       85      1     33    2      14   0        1\n",
       "2      170      1     25    4      15   0        1\n",
       "3      170      1     25    8      14   0        0\n",
       "4      340      1     33   16      14   0        1\n",
       "...    ...    ...    ...  ...     ...  ..      ...\n",
       "6254   528     35    100    8      15   0        1\n",
       "6255   850     35     66   16      15   1        1\n",
       "6256  1200     35    100   24      15   1        1\n",
       "6257   850     35    100   16      15   1        1\n",
       "6258   850     35    100   16      17   1        1\n",
       "\n",
       "[6183 rows x 7 columns]"
      ]
     },
     "execution_count": 62,
     "metadata": {},
     "output_type": "execute_result"
    }
   ],
   "source": [
    "final_df[['cd','premium']]=final_df[['cd','premium']].replace({'yes':1,'no':0})\n",
    "final_df"
   ]
  },
  {
   "cell_type": "code",
   "execution_count": 53,
   "id": "9d397463",
   "metadata": {},
   "outputs": [
    {
     "data": {
      "text/html": [
       "<div>\n",
       "<style scoped>\n",
       "    .dataframe tbody tr th:only-of-type {\n",
       "        vertical-align: middle;\n",
       "    }\n",
       "\n",
       "    .dataframe tbody tr th {\n",
       "        vertical-align: top;\n",
       "    }\n",
       "\n",
       "    .dataframe thead th {\n",
       "        text-align: right;\n",
       "    }\n",
       "</style>\n",
       "<table border=\"1\" class=\"dataframe\">\n",
       "  <thead>\n",
       "    <tr style=\"text-align: right;\">\n",
       "      <th></th>\n",
       "      <th>hd</th>\n",
       "      <th>trend</th>\n",
       "      <th>speed</th>\n",
       "      <th>ram</th>\n",
       "      <th>screen</th>\n",
       "      <th>cd</th>\n",
       "      <th>premium</th>\n",
       "      <th>price</th>\n",
       "    </tr>\n",
       "  </thead>\n",
       "  <tbody>\n",
       "    <tr>\n",
       "      <th>0</th>\n",
       "      <td>80</td>\n",
       "      <td>1</td>\n",
       "      <td>25</td>\n",
       "      <td>4</td>\n",
       "      <td>14</td>\n",
       "      <td>0</td>\n",
       "      <td>1</td>\n",
       "      <td>1499</td>\n",
       "    </tr>\n",
       "    <tr>\n",
       "      <th>1</th>\n",
       "      <td>85</td>\n",
       "      <td>1</td>\n",
       "      <td>33</td>\n",
       "      <td>2</td>\n",
       "      <td>14</td>\n",
       "      <td>0</td>\n",
       "      <td>1</td>\n",
       "      <td>1795</td>\n",
       "    </tr>\n",
       "    <tr>\n",
       "      <th>2</th>\n",
       "      <td>170</td>\n",
       "      <td>1</td>\n",
       "      <td>25</td>\n",
       "      <td>4</td>\n",
       "      <td>15</td>\n",
       "      <td>0</td>\n",
       "      <td>1</td>\n",
       "      <td>1595</td>\n",
       "    </tr>\n",
       "    <tr>\n",
       "      <th>3</th>\n",
       "      <td>170</td>\n",
       "      <td>1</td>\n",
       "      <td>25</td>\n",
       "      <td>8</td>\n",
       "      <td>14</td>\n",
       "      <td>0</td>\n",
       "      <td>0</td>\n",
       "      <td>1849</td>\n",
       "    </tr>\n",
       "    <tr>\n",
       "      <th>4</th>\n",
       "      <td>340</td>\n",
       "      <td>1</td>\n",
       "      <td>33</td>\n",
       "      <td>16</td>\n",
       "      <td>14</td>\n",
       "      <td>0</td>\n",
       "      <td>1</td>\n",
       "      <td>3295</td>\n",
       "    </tr>\n",
       "  </tbody>\n",
       "</table>\n",
       "</div>"
      ],
      "text/plain": [
       "    hd  trend  speed  ram  screen  cd  premium  price\n",
       "0   80      1     25    4      14   0        1   1499\n",
       "1   85      1     33    2      14   0        1   1795\n",
       "2  170      1     25    4      15   0        1   1595\n",
       "3  170      1     25    8      14   0        0   1849\n",
       "4  340      1     33   16      14   0        1   3295"
      ]
     },
     "execution_count": 53,
     "metadata": {},
     "output_type": "execute_result"
    }
   ],
   "source": [
    "#Adding target variable to the data\n",
    "final_df['price']=ComputerPrice['price']\n",
    "final_df.head()"
   ]
  },
  {
   "cell_type": "markdown",
   "id": "3879649d",
   "metadata": {},
   "source": [
    "# Machine Learning: Splitting the data into Training and Testing sample"
   ]
  },
  {
   "cell_type": "code",
   "execution_count": 54,
   "id": "d8288d3c",
   "metadata": {},
   "outputs": [],
   "source": [
    "x=final_df[Predictors]\n",
    "y=final_df['price']"
   ]
  },
  {
   "cell_type": "code",
   "execution_count": 55,
   "id": "b7388a68",
   "metadata": {},
   "outputs": [],
   "source": [
    "#Splitting the data\n",
    "from sklearn.model_selection import train_test_split\n",
    "x_train,x_test,y_train,y_test=train_test_split(x,y,test_size=0.3)"
   ]
  },
  {
   "cell_type": "markdown",
   "id": "7314e86e",
   "metadata": {},
   "source": [
    "# Multiple Linear Regression"
   ]
  },
  {
   "cell_type": "code",
   "execution_count": 59,
   "id": "ed80753e",
   "metadata": {},
   "outputs": [
    {
     "data": {
      "text/plain": [
       "LinearRegression()"
      ]
     },
     "execution_count": 59,
     "metadata": {},
     "output_type": "execute_result"
    }
   ],
   "source": [
    "from sklearn.linear_model import LinearRegression\n",
    "lm=LinearRegression()\n",
    "lm.fit(x_train,y_train)"
   ]
  },
  {
   "cell_type": "markdown",
   "id": "92411b52",
   "metadata": {},
   "source": [
    "# Model Evaluation"
   ]
  },
  {
   "cell_type": "code",
   "execution_count": 63,
   "id": "009f3f44",
   "metadata": {},
   "outputs": [
    {
     "name": "stdout",
     "output_type": "stream",
     "text": [
      "R2 score: 0.7634139074540116\n"
     ]
    }
   ],
   "source": [
    "from sklearn import metrics\n",
    "\n",
    "# Measuring Goodness of fit in Training data\n",
    "print('R2 score:',metrics.r2_score(y_train,lm.predict(x_train)))"
   ]
  },
  {
   "cell_type": "code",
   "execution_count": 64,
   "id": "fb38ff5d",
   "metadata": {},
   "outputs": [
    {
     "data": {
      "text/plain": [
       "<matplotlib.collections.PathCollection at 0x265aa2e6970>"
      ]
     },
     "execution_count": 64,
     "metadata": {},
     "output_type": "execute_result"
    },
    {
     "data": {
      "image/png": "[encoded data removed]",
      "text/plain": [
       "<Figure size 432x288 with 1 Axes>"
      ]
     },
     "metadata": {
      "needs_background": "light"
     },
     "output_type": "display_data"
    }
   ],
   "source": [
    "prediction=lm.predict(x_test)\n",
    "plt.scatter(prediction,y_test)"
   ]
  },
  {
   "cell_type": "code",
   "execution_count": 68,
   "id": "4a367660",
   "metadata": {},
   "outputs": [
    {
     "name": "stdout",
     "output_type": "stream",
     "text": [
      "mean accuracy on test data 90.32094398525511\n",
      "median accuracy on test data 92.18030991915032\n"
     ]
    }
   ],
   "source": [
    "mape=np.mean(abs((prediction-y_test)/y_test))*100\n",
    "med=np.median(abs((prediction-y_test)/y_test))*100\n",
    "\n",
    "print('mean accuracy on test data', 100-mape)\n",
    "print('median accuracy on test data', 100-med)"
   ]
  },
  {
   "cell_type": "code",
   "execution_count": 70,
   "id": "4b36ef78",
   "metadata": {},
   "outputs": [
    {
     "name": "stdout",
     "output_type": "stream",
     "text": [
      "Avg accuracy of model: 88.89\n"
     ]
    }
   ],
   "source": [
    "#Defining a custom function to calculate accuracy\n",
    "def Accuracy_Score(orig,pred):\n",
    "    mape=np.mean(abs((orig-pred)/pred))*100\n",
    "    return(100-mape)\n",
    "\n",
    "#Custom scoring MAPE calculation\n",
    "from sklearn.metrics import make_scorer\n",
    "cust_score=make_scorer(Accuracy_Score)\n",
    "\n",
    "#Importing cross validation function from sklearn\n",
    "from sklearn.model_selection import cross_val_score\n",
    "# Passing full data X and y because the K-fold will split the data and automatically choose train/test\n",
    "print('Avg accuracy of model:',round(cross_val_score(lm,x,y,scoring=cust_score).mean(),2))"
   ]
  },
  {
   "cell_type": "markdown",
   "id": "425bfac4",
   "metadata": {},
   "source": [
    "# Decision Trees"
   ]
  },
  {
   "cell_type": "code",
   "execution_count": 72,
   "id": "47b3f37d",
   "metadata": {},
   "outputs": [
    {
     "data": {
      "text/plain": [
       "DecisionTreeRegressor(max_depth=3)"
      ]
     },
     "execution_count": 72,
     "metadata": {},
     "output_type": "execute_result"
    }
   ],
   "source": [
    "from sklearn.tree import DecisionTreeRegressor\n",
    "rm=DecisionTreeRegressor(max_depth=3,criterion='mse')\n",
    "rm.fit(x_train,y_train)"
   ]
  },
  {
   "cell_type": "code",
   "execution_count": 73,
   "id": "b7dac25f",
   "metadata": {},
   "outputs": [
    {
     "name": "stdout",
     "output_type": "stream",
     "text": [
      "R2 score: 0.5593113125859218\n"
     ]
    }
   ],
   "source": [
    "# Measuring Goodness of fit in Training data\n",
    "print('R2 score:',metrics.r2_score(y_train,rm.predict(x_train)))"
   ]
  },
  {
   "cell_type": "code",
   "execution_count": 74,
   "id": "37efe502",
   "metadata": {},
   "outputs": [
    {
     "data": {
      "text/plain": [
       "<AxesSubplot:>"
      ]
     },
     "execution_count": 74,
     "metadata": {},
     "output_type": "execute_result"
    },
    {
     "data": {
      "image/png": "[encoded data removed]",
      "text/plain": [
       "<Figure size 432x288 with 1 Axes>"
      ]
     },
     "metadata": {
      "needs_background": "light"
     },
     "output_type": "display_data"
    }
   ],
   "source": [
    "# Plotting the feature importance for Top 5 most important columns\n",
    "pd.Series(rm.feature_importances_,index=Predictors).nlargest(5).plot(kind='barh')"
   ]
  },
  {
   "cell_type": "code",
   "execution_count": 79,
   "id": "8c60378c",
   "metadata": {},
   "outputs": [
    {
     "name": "stdout",
     "output_type": "stream",
     "text": [
      "mean accuracy of the model: 87.39437592678271\n",
      "median accuracy of the model: 90.2410570243857\n",
      "avg accuracy of the model: 82.59\n"
     ]
    }
   ],
   "source": [
    "prediction=rm.predict(x_test)\n",
    "\n",
    "mape=np.mean(abs((prediction-y_test)/y_test)*100)\n",
    "med=np.median(abs((prediction-y_test)/y_test)*100)\n",
    "\n",
    "print('mean accuracy of the model:', 100-mape)\n",
    "print('median accuracy of the model:', 100-med)\n",
    "print('avg accuracy of the model:', round(cross_val_score(rm,x,y,scoring=cust_score).mean(),2))"
   ]
  },
  {
   "cell_type": "markdown",
   "id": "0f78c63d",
   "metadata": {},
   "source": [
    "### Plotting a Decision Tree"
   ]
  },
  {
   "cell_type": "code",
   "execution_count": 80,
   "id": "e1ba5db1",
   "metadata": {},
   "outputs": [],
   "source": [
    "import os\n",
    "os.environ[\"PATH\"] += os.pathsep + 'C:\\\\Users\\\\eshvi\\\\anaconda3\\\\Library\\\\bin\\\\graphviz'"
   ]
  },
  {
   "cell_type": "code",
   "execution_count": 81,
   "id": "45310c09",
   "metadata": {},
   "outputs": [],
   "source": [
    "from IPython.display import Image\n",
    "from sklearn import tree\n",
    "import pydotplus"
   ]
  },
  {
   "cell_type": "code",
   "execution_count": 82,
   "id": "c884b92b",
   "metadata": {},
   "outputs": [
    {
     "data": {
      "image/png": "[encoded data removed]",
      "text/plain": [
       "<IPython.core.display.Image object>"
      ]
     },
     "execution_count": 82,
     "metadata": {
      "image/png": {
       "height": 7000,
       "width": 7000
      }
     },
     "output_type": "execute_result"
    }
   ],
   "source": [
    "#Create DOT Data\n",
    "dot_data=tree.export_graphviz(rm,feature_names=Predictors,class_names=y)\n",
    "\n",
    "#Draw graph\n",
    "graph=pydotplus.graph_from_dot_data(dot_data)\n",
    "\n",
    "#Show graph\n",
    "Image(graph.create_png(), height=7000, width=7000)"
   ]
  },
  {
   "cell_type": "code",
   "execution_count": null,
   "id": "b1e0c73c",
   "metadata": {},
   "outputs": [],
   "source": []
  }
 ],
 "metadata": {
  "kernelspec": {
   "display_name": "Python 3 (ipykernel)",
   "language": "python",
   "name": "python3"
  },
  "language_info": {
   "codemirror_mode": {
    "name": "ipython",
    "version": 3
   },
   "file_extension": ".py",
   "mimetype": "text/x-python",
   "name": "python",
   "nbconvert_exporter": "python",
   "pygments_lexer": "ipython3",
   "version": "3.9.7"
  }
 },
 "nbformat": 4,
 "nbformat_minor": 5
}
